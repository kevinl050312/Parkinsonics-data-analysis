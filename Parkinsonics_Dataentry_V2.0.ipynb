{
 "cells": [
  {
   "cell_type": "code",
   "execution_count": 1,
   "metadata": {},
   "outputs": [],
   "source": [
    "#Parkinsonics Data Entry and Aggregation July 16 2019 - Kevin Bela Lauren"
   ]
  },
  {
   "cell_type": "code",
   "execution_count": 16,
   "metadata": {},
   "outputs": [],
   "source": [
    "import pandas as pd\n",
    "import numpy as np\n",
    "import os \n",
    "pd.options.display.max_rows = 999\n",
    "pd.options.display.max_columns = 999"
   ]
  },
  {
   "cell_type": "code",
   "execution_count": 17,
   "metadata": {},
   "outputs": [],
   "source": [
    "df=pd.ExcelFile('raw1.xlsx')"
   ]
  },
  {
   "cell_type": "code",
   "execution_count": 72,
   "metadata": {},
   "outputs": [],
   "source": [
    "# Exclude sheet 0 with all patients\n",
    "listofpatients= list(df.sheet_names)[1:]\n",
    "# Remove patient sheets that don't work in for loop.\n",
    "# Inc and doesn't have 'Type.1' column\n",
    "listofpatients.remove('063713')\n",
    "listofpatients.remove('122506')\n",
    "\n",
    "masterdf=pd.DataFrame()\n",
    "counter=0\n",
    "# Loop through list of patient names\n",
    "for x in listofpatients:\n",
    "    # tempdf is the dataframe containing 1 patient's raw data\n",
    "    # tidydf is the final dataframe containing 1 patient's processed data\n",
    "    counter+=1\n",
    "    tidydf=pd.DataFrame()\n",
    "    tempdf=df.parse(str(x))\n",
    "    \n",
    "    # Apply logic for each patient's dataset:\n",
    "    # Drop rows with average and stdev data; not needed\n",
    "    tempdf=tempdf.drop([3,4,8,9,13,14,18,19])\n",
    "    tempdf=tempdf.drop('Type.1', axis=1)\n",
    "    \n",
    "    # Drop columns with recording filenames & patient ID\n",
    "    colnames=tempdf.columns.tolist()\n",
    "    del colnames[0:7]\n",
    "    tempdf=tempdf[colnames]\n",
    "    \n",
    "    # Isolate categories one by one: A Max, A Min, E Max, E Min, Rainbow, Cookie\n",
    "    # Melt to get 1 axis of all values (vertical axis)\n",
    "    Amaxdf=tempdf.iloc[0:3,].melt().drop([0,1,2])\n",
    "    # Specify variable names to include A_Max, and transpose to get horizontal\n",
    "    maxdf1=pd.DataFrame()\n",
    "    maxdf2=pd.DataFrame()\n",
    "    maxdf1['variable']=['1','2','3']\n",
    "    while maxdf2.shape[0]!=147:\n",
    "        maxdf2=pd.concat([maxdf1, maxdf2], ignore_index=True)\n",
    "    \n",
    "    Amaxdf['variable']='A Max '+maxdf2['variable']+' '+Amaxdf['variable']\n",
    "    Amaxdf=Amaxdf.transpose()\n",
    "    tidydf=pd.concat([tidydf, Amaxdf], axis=1, ignore_index=True)\n",
    "    \n",
    "    # A min\n",
    "    Amindf=tempdf.iloc[3:6,].melt().drop([0,1,2])\n",
    "    mindf1=pd.DataFrame()\n",
    "    mindf2=pd.DataFrame()\n",
    "    mindf1['variable']=['1','2','3']\n",
    "    while mindf2.shape[0]!=147:\n",
    "        mindf2=pd.concat([mindf1, mindf2], ignore_index=True)\n",
    "        \n",
    "    Amindf['variable']='A Min '+mindf2['variable']+' '+Amindf['variable']\n",
    "    Amindf=Amindf.transpose()\n",
    "    tidydf=pd.concat([tidydf, Amindf], axis=1, ignore_index=True)\n",
    "    \n",
    "    #E max\n",
    "    Emaxdf=tempdf.iloc[6:9,].melt().drop([0,1,2])\n",
    "    maxdf3=pd.DataFrame()\n",
    "    maxdf4=pd.DataFrame()\n",
    "    maxdf3['variable']=['1','2','3']\n",
    "    while maxdf4.shape[0]!=147:\n",
    "        maxdf4=pd.concat([maxdf3, maxdf4], ignore_index=True)\n",
    "    \n",
    "    Emaxdf['variable']='E Max '+maxdf4['variable']+' '+Emaxdf['variable']\n",
    "    Emaxdf=Emaxdf.transpose()\n",
    "    tidydf=pd.concat([tidydf, Emaxdf], axis=1, ignore_index=True)\n",
    "    \n",
    "    #E min\n",
    "    Emindf=tempdf.iloc[9:12,].melt().drop([0,1,2])\n",
    "    mindf3=pd.DataFrame()\n",
    "    mindf4=pd.DataFrame()\n",
    "    mindf3['variable']=['1','2','3']\n",
    "    while mindf4.shape[0]!=147:\n",
    "        mindf4=pd.concat([mindf3, mindf4], ignore_index=True)\n",
    "    Emindf['variable']='E Min '+mindf4['variable']+' '+Emindf['variable']\n",
    "    Emindf=Emindf.transpose()\n",
    "    tidydf=pd.concat([tidydf, Emindf], axis=1, ignore_index=True)\n",
    "    \n",
    "    # Rainbow\n",
    "    # raindf=tempdf.iloc[12,].to_frame()\n",
    "    # raindf=raindf.transpose()\n",
    "    # raindf.columns='Rainbow '+raindf.columns\n",
    "    # raindf.drop(columns=['Rainbow Type'])\n",
    "    # tidydf=pd.concat([tidydf, raindf], axis=1, ignore_index=True)\n",
    "    \n",
    "    # Append tidydf to masterdf, which will have processed data for all patients - 1 per row\n",
    "    if x=='013916':\n",
    "        masterdf=masterdf.append(tidydf)\n",
    "    else:\n",
    "        masterdf=masterdf.append(tidydf.iloc[1,])\n",
    "    \n",
    "        "
   ]
  },
  {
   "cell_type": "code",
   "execution_count": 74,
   "metadata": {},
   "outputs": [],
   "source": [
    "# Concatenate list of patient IDS with masterdf so that data is on row with IDs\n",
    "listofpatients.insert(0, 0)\n",
    "masterdf['ID']=listofpatients"
   ]
  },
  {
   "cell_type": "code",
   "execution_count": 75,
   "metadata": {
    "scrolled": false
   },
   "outputs": [],
   "source": [
    "# Move the ID column to the front\n",
    "cols=list(masterdf)\n",
    "cols.insert(0, cols.pop(cols.index('ID')))\n",
    "masterdf=masterdf.loc[:,cols]"
   ]
  },
  {
   "cell_type": "code",
   "execution_count": 77,
   "metadata": {},
   "outputs": [],
   "source": [
    "masterdf.to_excel(r'C:\\Users\\kevin\\Documents\\JHU\\Labs\\Parkinsonics\\Parkinsonics_FINAL_MasterVM.xlsx')"
   ]
  }
 ],
 "metadata": {
  "kernelspec": {
   "display_name": "Python 3",
   "language": "python",
   "name": "python3"
  },
  "language_info": {
   "codemirror_mode": {
    "name": "ipython",
    "version": 3
   },
   "file_extension": ".py",
   "mimetype": "text/x-python",
   "name": "python",
   "nbconvert_exporter": "python",
   "pygments_lexer": "ipython3",
   "version": "3.7.3"
  }
 },
 "nbformat": 4,
 "nbformat_minor": 2
}
